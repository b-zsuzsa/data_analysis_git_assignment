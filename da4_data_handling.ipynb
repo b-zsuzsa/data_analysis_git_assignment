{
  "cells": [
    {
      "cell_type": "markdown",
      "metadata": {
        "id": "SC2dI-DbLxMp"
      },
      "source": [
        "# Data Processing and Performance Exploration - Data Analysis Course\n",
        "\n",
        "**Welcome** to the Data Processing and Performance Exploration task! In this assignment, you will explore the **Big Sales data** dataset from [Kaggle](https://www.kaggle.com/datasets/pigment/big-sales-data/data) (we only need the Books_rating.csv from there), focusing on calculating a \"dummy sentiment score\" measure using different data processing tools. The goal is to analyze the memory usage and execution time of these tools—**Pandas**, **Dask**, and **PySpark**—and compare their performance.\n",
        "\n",
        "**Exploration and Tools**  \n",
        "Explore the following tools to process large datasets and measure performance:\n",
        "\n",
        "- [Pandas Documentation](https://pandas.pydata.org/)\n",
        "- [Dask Documentation](https://dask.org/)\n",
        "- [PySpark Documentation](https://spark.apache.org/docs/latest/api/python/)\n",
        "\n",
        "You will be using Python (specifically **Pandas**, **Dask**, and **PySpark**) to handle the dataset and compute the sentiment score. Be sure to pay attention to memory usage and processing time during the computations.\n",
        "\n",
        "**Task Description**  \n",
        "1. Download the **Books_rating.csv** from the following Kaggle dataset: [Big Sales Data](https://www.kaggle.com/datasets/pigment/big-sales-data/data).\n",
        "2. Create a function `process_text(text)` that computes a **dummy sentiment score** for each review. The sentiment score should be calculated as the sum of the Unicode values of all characters in the review, modulo 100. Here’s a template for the function:\n",
        "\n",
        "    ```python\n",
        "    import re\n",
        "\n",
        "    def process_text(text):\n",
        "        words = re.findall(r'\\w+', text)  # Tokenize words\n",
        "        word_count = len(words)  # Count words\n",
        "        sentiment_score = sum(ord(c) for c in text) % 100  # Fake sentiment calculation\n",
        "        return word_count, sentiment_score\n",
        "    ```\n",
        "3. Perform the calculation using **Pandas**, **Dask**, and **PySpark** and compare the **memory usage** and **execution time** of each tool.\n",
        "4. Explore the trade-offs between each library in terms of performance, scalability, and ease of use.\n",
        "5. **Visualizations**:\n",
        "    - Create visualizations for **execution time** and **memory usage** for each library. Use appropriate libraries such as **Matplotlib** or **Seaborn** to plot your results.\n",
        "    - Use the `%%time` magic command in Jupyter to measure execution time for each tool.\n",
        "    - For **Dask**, consider using `dask.delayed` or similar techniques for more efficient parallel computation. Experiment with different Dask functions and compare the results.\n",
        "  \n",
        "**Metrics to Analyze:**\n",
        "- **Memory Usage**: How much memory does each library consume when processing the data? Use memory profiling tools to measure the memory footprint.\n",
        "- **Execution Time**: Measure how long it takes for each tool to complete the sentiment score calculation. Use appropriate timing functions (e.g., `time.time()` or `datetime.now()`) or Jupyter's `%%time` magic command.\n",
        "\n",
        "**Submission Instructions**  \n",
        "Upload your solution to GitHub, adding the notebook and any related files to your existing project repository.\n",
        "\n",
        "**Visualizations and Figures**  \n",
        "For each tool, include visualizations (e.g., execution time and memory usage comparisons) that clearly show how each tool performs in terms of resource usage.\n",
        "\n",
        "If you are interested in the topic, check out:\n",
        "http://daslab.seas.harvard.edu/classes/cs265/\n"
      ]
    },
    {
      "cell_type": "code",
      "execution_count": 16,
      "metadata": {},
      "outputs": [],
      "source": [
        "import dask\n",
        "import kagglehub\n",
        "from kagglehub import KaggleDatasetAdapter\n",
        "import pandas as pd"
      ]
    },
    {
      "cell_type": "code",
      "execution_count": 17,
      "metadata": {},
      "outputs": [],
      "source": [
        "import re\n",
        "import time\n",
        "from memory_profiler import memory_usage\n",
        "\n",
        "def process_text(text):\n",
        "    if not isinstance(text, str):\n",
        "        text = \"\"\n",
        "    words = re.findall(r'\\w+', text)\n",
        "    return int(len(words)), int(sum(ord(c) for c in text) % 100)"
      ]
    },
    {
      "cell_type": "code",
      "execution_count": 18,
      "metadata": {},
      "outputs": [],
      "source": [
        "df = pd.read_csv(\"Books_rating.csv\")"
      ]
    },
    {
      "cell_type": "code",
      "execution_count": 19,
      "metadata": {},
      "outputs": [],
      "source": [
        "df['review/text'] = df['review/text'].astype(str)"
      ]
    },
    {
      "cell_type": "code",
      "execution_count": 20,
      "metadata": {},
      "outputs": [
        {
          "name": "stdout",
          "output_type": "stream",
          "text": [
            "Pandas time (sample): 1.27 sec, Max memory: 3852.89 MiB\n",
            "         word_count  sentiment_score\n",
            "2945667         169               63\n",
            "2352586          21               17\n",
            "1531260         167               73\n",
            "941910           28               13\n",
            "2582125          49               50\n",
            "...             ...              ...\n",
            "1287132          49               44\n",
            "835402           36               60\n",
            "249829          338               10\n",
            "587466           56               10\n",
            "328811           76               33\n",
            "\n",
            "[5000 rows x 2 columns]\n"
          ]
        }
      ],
      "source": [
        "#sample_df = df.copy() - My laptop is not strong enough for this :(\n",
        "sample_df = df.sample(n=5000, random_state=42).copy()\n",
        "\n",
        "start_time = time.time()\n",
        "mem_usage = memory_usage((sample_df['review/text'].apply, (process_text,)), max_usage=True)\n",
        "sample_df[['word_count', 'sentiment_score']] = sample_df['review/text'].apply(process_text).apply(pd.Series)\n",
        "pandas_time = time.time() - start_time\n",
        "\n",
        "print(f\"Pandas time (sample): {pandas_time:.2f} sec, Max memory: {mem_usage:.2f} MiB\")\n",
        "print(sample_df[['word_count', 'sentiment_score']])\n"
      ]
    },
    {
      "cell_type": "code",
      "execution_count": 21,
      "metadata": {},
      "outputs": [],
      "source": [
        "import dask.dataframe as dd\n",
        "from pandas.api.types import is_string_dtype\n",
        "\n",
        "text_ddf = dd.from_pandas(sample_df[['review/text']], npartitions=4)"
      ]
    },
    {
      "cell_type": "code",
      "execution_count": 22,
      "metadata": {},
      "outputs": [
        {
          "name": "stdout",
          "output_type": "stream",
          "text": [
            "Dask time: 0.71 sec\n",
            "        review/text\n",
            "1002       (91, 85)\n",
            "1174      (175, 93)\n",
            "1297      (349, 76)\n",
            "1366      (421, 40)\n",
            "1954       (20, 58)\n",
            "...             ...\n",
            "2995679   (103, 29)\n",
            "2996729    (127, 1)\n",
            "2997402   (168, 51)\n",
            "2997439    (32, 32)\n",
            "2997667    (42, 30)\n",
            "\n",
            "[5000 rows x 1 columns]\n"
          ]
        }
      ],
      "source": [
        "meta = pd.DataFrame({\n",
        "    'word_count': pd.Series(dtype='int64'),\n",
        "    'sentiment_score': pd.Series(dtype='int64')\n",
        "})\n",
        "\n",
        "\n",
        "start_time = time.time()\n",
        "mapped_df = text_ddf.map(process_text, meta=meta)\n",
        "dask_result = mapped_df.compute()\n",
        "dask_time = time.time() - start_time\n",
        "\n",
        "print(f\"Dask time: {dask_time:.2f} sec\")\n",
        "print(dask_result)"
      ]
    },
    {
      "cell_type": "code",
      "execution_count": 23,
      "metadata": {},
      "outputs": [
        {
          "data": {
            "text/plain": [
              "33"
            ]
          },
          "execution_count": 23,
          "metadata": {},
          "output_type": "execute_result"
        }
      ],
      "source": [
        "import gc\n",
        "\n",
        "for var in [\"features_df\", \"features_ddf\", \"result\", \"df\"]:\n",
        "    if var in globals():\n",
        "        del globals()[var]\n",
        "\n",
        "gc.collect()\n"
      ]
    },
    {
      "cell_type": "code",
      "execution_count": 24,
      "metadata": {},
      "outputs": [],
      "source": [
        "from pyspark.sql import SparkSession\n",
        "from pyspark.sql.functions import udf, col\n",
        "from pyspark.sql.types import StructType, StructField, IntegerType"
      ]
    },
    {
      "cell_type": "code",
      "execution_count": 25,
      "metadata": {},
      "outputs": [
        {
          "name": "stderr",
          "output_type": "stream",
          "text": [
            "[Stage 0:============================================>              (6 + 2) / 8]\r"
          ]
        },
        {
          "name": "stdout",
          "output_type": "stream",
          "text": [
            "PySpark time (sample): 2.97 sec\n",
            "+--------------------+----------+---------------+\n",
            "|         review/text|word_count|sentiment_score|\n",
            "+--------------------+----------+---------------+\n",
            "|Jastrow made a gr...|       169|             63|\n",
            "|Extremely disappo...|        21|             17|\n",
            "|This, like all of...|       167|             73|\n",
            "|I enjoyed this cl...|        28|             13|\n",
            "|I would love to r...|        49|             50|\n",
            "+--------------------+----------+---------------+\n",
            "only showing top 5 rows\n",
            "\n"
          ]
        },
        {
          "name": "stderr",
          "output_type": "stream",
          "text": [
            "                                                                                \r"
          ]
        }
      ],
      "source": [
        "sample_df['review/text'] = sample_df['review/text'].astype(str)\n",
        "\n",
        "# Start Spark\n",
        "spark = SparkSession.builder \\\n",
        "    .appName(\"TextProcessing\") \\\n",
        "    .master(\"local[8]\") \\\n",
        "    .getOrCreate()\n",
        "spark.sparkContext.setLogLevel(\"ERROR\")\n",
        "\n",
        "# Create Spark DataFrame\n",
        "spark_df = spark.createDataFrame(sample_df)\n",
        "\n",
        "# Register UDF with return schema\n",
        "schema = StructType([\n",
        "    StructField(\"word_count\", IntegerType(), True),\n",
        "    StructField(\"sentiment_score\", IntegerType(), True),\n",
        "])\n",
        "process_udf = udf(process_text, schema)\n",
        "\n",
        "# Apply the UDF and trigger execution\n",
        "start_time = time.time()\n",
        "processed_df = spark_df.withColumn(\"features\", process_udf(col(\"review/text\")))\n",
        "processed_df = processed_df.select(\"review/text\", \"features.*\")\n",
        "processed_df.cache().count()  # Trigger the computation\n",
        "spark_time = time.time() - start_time\n",
        "\n",
        "# Show results\n",
        "print(f\"PySpark time (sample): {spark_time:.2f} sec\")\n",
        "processed_df.show(5)"
      ]
    },
    {
      "cell_type": "code",
      "execution_count": 26,
      "metadata": {},
      "outputs": [
        {
          "data": {
            "text/plain": [
              "369"
            ]
          },
          "execution_count": 26,
          "metadata": {},
          "output_type": "execute_result"
        }
      ],
      "source": [
        "# Stop Spark session to free JVM memory\n",
        "try:\n",
        "    spark.stop()\n",
        "except:\n",
        "    pass\n",
        "\n",
        "for var in [\"features_df\", \"processed_df\", \"spark_df\", \"sample_df\"]:\n",
        "    if var in globals():\n",
        "        del globals()[var]\n",
        "\n",
        "gc.collect()\n"
      ]
    },
    {
      "cell_type": "code",
      "execution_count": 33,
      "metadata": {},
      "outputs": [
        {
          "data": {
            "image/png": "[encoded data removed]",
            "text/plain": [
              "<Figure size 800x800 with 1 Axes>"
            ]
          },
          "metadata": {},
          "output_type": "display_data"
        }
      ],
      "source": [
        "import matplotlib.pyplot as plt\n",
        "\n",
        "plt.figure(figsize=(8,8))\n",
        "plt.bar(range(3), [pandas_time, dask_time, spark_time], tick_label=['pandas', 'dask', 'pyspark'], color='royalblue')\n",
        "plt.ylabel(\"execution time (s)\")\n",
        "plt.grid(axis='y')"
      ]
    },
    {
      "cell_type": "code",
      "execution_count": null,
      "metadata": {},
      "outputs": [],
      "source": []
    }
  ],
  "metadata": {
    "colab": {
      "provenance": []
    },
    "kernelspec": {
      "display_name": "base",
      "language": "python",
      "name": "python3"
    },
    "language_info": {
      "codemirror_mode": {
        "name": "ipython",
        "version": 3
      },
      "file_extension": ".py",
      "mimetype": "text/x-python",
      "name": "python",
      "nbconvert_exporter": "python",
      "pygments_lexer": "ipython3",
      "version": "3.10.16"
    }
  },
  "nbformat": 4,
  "nbformat_minor": 0
}
